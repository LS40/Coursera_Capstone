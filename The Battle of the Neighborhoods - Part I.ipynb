{
 "cells": [
  {
   "cell_type": "markdown",
   "metadata": {
    "collapsed": true
   },
   "source": [
    "#The Battle of Neighborhoods (Week 1)"
   ]
  },
  {
   "cell_type": "markdown",
   "metadata": {},
   "source": [
    "##Description of the Introduction/Business Problem Section"
   ]
  },
  {
   "cell_type": "markdown",
   "metadata": {},
   "source": [
    "###Problem Description"
   ]
  },
  {
   "cell_type": "markdown",
   "metadata": {},
   "source": [
    "####The description of the problem is such that I am outlining the neighborhoods in Amsterdam, to tentatively determine where it is best to open a restaurant in this city. I shall try to group the venues in the boroughs using the Foursquare location data. This will be a project that categorizes venues into categories and seeks to find their similarities via a clustering approach."
   ]
  },
  {
   "cell_type": "markdown",
   "metadata": {},
   "source": [
    "##Description of the Data Section"
   ]
  },
  {
   "cell_type": "markdown",
   "metadata": {},
   "source": [
    "###Data Description"
   ]
  },
  {
   "cell_type": "markdown",
   "metadata": {},
   "source": [
    "####The data that I am using are Foursquare.com's data, wherein is contained the various neighborhood coordinates latitudinally and longitudinally, and these are used in a clustering approach to isolate the constituent parts of the neighborhoods of Amsterdam and their surrounding parts. The Foursquare data are used to cluster venues and find the neighborhoods of densest commercial activity.  "
   ]
  },
  {
   "cell_type": "markdown",
   "metadata": {},
   "source": [
    "Here is an example of the data that I can call:"
   ]
  },
  {
   "cell_type": "code",
   "execution_count": null,
   "metadata": {},
   "outputs": [],
   "source": [
    "https://api.foursquare.com/v2/venues/explore?&client_id=IB2A2SVIIVH15SYD54OWFDVMTXEQIJAXH2QSRLF0KVVDLFJ3&client_secret=WREIU53UTRFZZ1MDPAPBZK0O0LLIL2AJBC52VUADD1DGJQ0G&v=20180604&ll=52.293,4.98&radius=500&limit=100"
   ]
  },
  {
   "cell_type": "markdown",
   "metadata": {},
   "source": [
    "And some examples of some of the things that I may do with this data: "
   ]
  },
  {
   "cell_type": "code",
   "execution_count": null,
   "metadata": {},
   "outputs": [],
   "source": [
    "df.set_index('Post Code')\n",
    "df.head()"
   ]
  },
  {
   "cell_type": "code",
   "execution_count": null,
   "metadata": {},
   "outputs": [],
   "source": []
  }
 ],
 "metadata": {
  "kernelspec": {
   "display_name": "Python 3.6",
   "language": "python",
   "name": "python3"
  },
  "language_info": {
   "codemirror_mode": {
    "name": "ipython",
    "version": 3
   },
   "file_extension": ".py",
   "mimetype": "text/x-python",
   "name": "python",
   "nbconvert_exporter": "python",
   "pygments_lexer": "ipython3",
   "version": "3.6.8"
  }
 },
 "nbformat": 4,
 "nbformat_minor": 1
}
